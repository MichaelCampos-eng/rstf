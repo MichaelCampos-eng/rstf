{
 "cells": [
  {
   "attachments": {},
   "cell_type": "markdown",
   "metadata": {},
   "source": [
    "## Package/Library Installation ##"
   ]
  },
  {
   "cell_type": "code",
   "execution_count": null,
   "metadata": {},
   "outputs": [],
   "source": [
    "# If first time, mcopy and move setup from within your tensorflow/models/research\n",
    "# cp object_detection/packages/tf2/setup.py .\n",
    "\n",
    "# Then install all packages in the setup.py file\n",
    "# python -m pip install .\n",
    "\n",
    "# Within your tensorflow/models/research/ run script to verify configuration\n",
    "# python object_detection/builders/model_builder_tf2_test.py"
   ]
  },
  {
   "cell_type": "code",
   "execution_count": null,
   "metadata": {},
   "outputs": [],
   "source": [
    "import os\n",
    "from scripts.collection import DataCollection"
   ]
  },
  {
   "attachments": {},
   "cell_type": "markdown",
   "metadata": {},
   "source": [
    "## Directory Setup ##"
   ]
  },
  {
   "cell_type": "code",
   "execution_count": null,
   "metadata": {},
   "outputs": [],
   "source": [
    "labels = ['iphone', 'samsung', 'xiaomi', 'pixel']\n",
    "number_imgs = 5"
   ]
  },
  {
   "cell_type": "code",
   "execution_count": null,
   "metadata": {},
   "outputs": [],
   "source": [
    "# Paths\n",
    "ROOT_PATH = \"/home/mcserver/Desktop/machineLearning/projects/rstf\"\n",
    "IMAGES_PATH = os.path.join(\"images\")\n",
    "ANNOTATIONS = os.path.join('annotations')\n",
    "EXPORTED_MODELS = os.path.join('exported_models')\n",
    "MODELS = os.path.join(\"models\")\n",
    "PRETRAINED_MODELS = os.path.join(\"pretrained_models\")\n",
    "TRAIN = os.path.join(IMAGES_PATH, \"train\")\n",
    "TEST = os.path.join(IMAGES_PATH, \"test\")\n",
    "COLLECT = os.path.join(IMAGES_PATH, \"collected\")\n",
    "\n",
    "# Create directories\n",
    "if not os.path.exists(IMAGES_PATH):\n",
    "    os.makedirs(IMAGES_PATH)\n",
    "    os.makedirs(COLLECT)\n",
    "    os.makedirs(TRAIN)\n",
    "    os.makedirs(TEST)\n",
    "    for label in labels:\n",
    "        label_path = os.path.join(IMAGES_PATH, \"collected\", label)\n",
    "        if not os.path.exists(label_path):\n",
    "            os.makedirs(label_path)\n",
    "\n",
    "if not os.path.exists(ANNOTATIONS):\n",
    "    os.makedirs(ANNOTATIONS)\n",
    "\n",
    "if not os.path.exists(EXPORTED_MODELS):\n",
    "    os.makedirs(EXPORTED_MODELS)\n",
    "\n",
    "if not os.path.exists(MODELS):\n",
    "    os.makedirs(MODELS)\n",
    "\n",
    "if not os.path.exists(PRETRAINED_MODELS):\n",
    "    os.makedirs(PRETRAINED_MODELS)"
   ]
  },
  {
   "attachments": {},
   "cell_type": "markdown",
   "metadata": {},
   "source": [
    "## Data Collection ##"
   ]
  },
  {
   "cell_type": "code",
   "execution_count": null,
   "metadata": {},
   "outputs": [],
   "source": [
    "# Format data to jpg each with unique uuid for each label\n",
    "images_collection = DataCollection(IMAGES_PATH, \"collected\", TEST, TRAIN, labels)"
   ]
  },
  {
   "attachments": {},
   "cell_type": "markdown",
   "metadata": {},
   "source": [
    "#### Per Class ####"
   ]
  },
  {
   "cell_type": "code",
   "execution_count": null,
   "metadata": {},
   "outputs": [],
   "source": [
    "# Put images in staging area\n",
    "label_name = \"ENTER LABEL NAME\"\n",
    "\n",
    "# Format files appropriately\n",
    "image_collection.format_files(label_name)"
   ]
  },
  {
   "cell_type": "code",
   "execution_count": null,
   "metadata": {},
   "outputs": [],
   "source": [
    "# Transfer files from staging area if valid\n",
    "image_collection.move_to_label(label_name)"
   ]
  },
  {
   "attachments": {},
   "cell_type": "markdown",
   "metadata": {},
   "source": [
    "#### Per Batch ####"
   ]
  },
  {
   "cell_type": "code",
   "execution_count": null,
   "metadata": {},
   "outputs": [],
   "source": [
    "# Format files appropriately\n",
    "image_collection.format_files()"
   ]
  },
  {
   "cell_type": "code",
   "execution_count": null,
   "metadata": {},
   "outputs": [],
   "source": [
    "# Transfer files from staging area if valid\n",
    "image_collection.move_to_labels()"
   ]
  },
  {
   "attachments": {},
   "cell_type": "markdown",
   "metadata": {},
   "source": [
    "### Labeling ###"
   ]
  },
  {
   "cell_type": "code",
   "execution_count": null,
   "metadata": {},
   "outputs": [],
   "source": [
    "# Open labelImg gui to begin labeling\n",
    "!labelImg"
   ]
  },
  {
   "cell_type": "code",
   "execution_count": null,
   "metadata": {},
   "outputs": [],
   "source": [
    "# Distribute images into train and test with train-test ratio\n",
    "image_collection.split_train_test(0.8)"
   ]
  }
 ],
 "metadata": {
  "kernelspec": {
   "display_name": "tfrs",
   "language": "python",
   "name": "python3"
  },
  "language_info": {
   "codemirror_mode": {
    "name": "ipython",
    "version": 3
   },
   "file_extension": ".py",
   "mimetype": "text/x-python",
   "name": "python",
   "nbconvert_exporter": "python",
   "pygments_lexer": "ipython3",
   "version": "3.9.17"
  },
  "orig_nbformat": 4
 },
 "nbformat": 4,
 "nbformat_minor": 2
}
