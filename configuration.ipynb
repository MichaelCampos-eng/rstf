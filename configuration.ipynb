{
 "cells": [
  {
   "attachments": {},
   "cell_type": "markdown",
   "metadata": {},
   "source": [
    "## Package/Library Installation ##"
   ]
  },
  {
   "cell_type": "code",
   "execution_count": 1,
   "metadata": {},
   "outputs": [],
   "source": [
    "# If first time, mcopy and move setup from within your tensorflow/models/research\n",
    "# cp object_detection/packages/tf2/setup.py .\n",
    "\n",
    "# Then install all packages in the setup.py file\n",
    "# python -m pip install .\n",
    "\n",
    "# Within your tensorflow/models/research/ run script to verify configuration\n",
    "# python object_detection/builders/model_builder_tf2_test.py"
   ]
  },
  {
   "cell_type": "code",
   "execution_count": 3,
   "metadata": {},
   "outputs": [],
   "source": [
    "import os\n",
    "from scripts.collection import DataFormat, DataPartition"
   ]
  },
  {
   "attachments": {},
   "cell_type": "markdown",
   "metadata": {},
   "source": [
    "## Directory Setup ##"
   ]
  },
  {
   "cell_type": "code",
   "execution_count": 4,
   "metadata": {},
   "outputs": [],
   "source": [
    "labels = ['store', 'details', 'content', 'balance']\n",
    "number_imgs = 2"
   ]
  },
  {
   "cell_type": "code",
   "execution_count": 5,
   "metadata": {},
   "outputs": [],
   "source": [
    "# Paths\n",
    "ROOT_PATH = \"/home/mcserver/Desktop/machineLearning/projects/rstf\"\n",
    "IMAGES_PATH = os.path.join(\"images\")\n",
    "ANNOTATIONS = os.path.join('annotations')\n",
    "EXPORTED_MODELS = os.path.join('exported_models')\n",
    "MODELS = os.path.join(\"models\")\n",
    "PRETRAINED_MODELS = os.path.join(\"pretrained_models\")\n",
    "TRAIN = os.path.join(IMAGES_PATH, \"train\")\n",
    "TEST = os.path.join(IMAGES_PATH, \"test\")\n",
    "COLLECT = os.path.join(IMAGES_PATH, \"collected\")\n",
    "\n",
    "# Create directories\n",
    "if not os.path.exists(IMAGES_PATH):\n",
    "    os.makedirs(IMAGES_PATH)\n",
    "    os.makedirs(COLLECT)\n",
    "    os.makedirs(TRAIN)\n",
    "    os.makedirs(TEST)\n",
    "    os.makedirs(os.path.join(COLLECT, \"raw\"))\n",
    "    for label in labels:\n",
    "        label_path = os.path.join(IMAGES_PATH, \"collected\", label)\n",
    "        if not os.path.exists(label_path):\n",
    "            os.makedirs(label_path)\n",
    "\n",
    "if not os.path.exists(ANNOTATIONS):\n",
    "    os.makedirs(ANNOTATIONS)\n",
    "\n",
    "if not os.path.exists(EXPORTED_MODELS):\n",
    "    os.makedirs(EXPORTED_MODELS)\n",
    "\n",
    "if not os.path.exists(MODELS):\n",
    "    os.makedirs(MODELS)\n",
    "\n",
    "if not os.path.exists(PRETRAINED_MODELS):\n",
    "    os.makedirs(PRETRAINED_MODELS)"
   ]
  },
  {
   "attachments": {},
   "cell_type": "markdown",
   "metadata": {},
   "source": [
    "## Data Collection ##"
   ]
  },
  {
   "cell_type": "code",
   "execution_count": 5,
   "metadata": {},
   "outputs": [],
   "source": [
    "# Format data to jpg each with unique uuid for each label\n",
    "image_raw_path = os.path.join(ROOT_PATH, COLLECT, \"raw\")\n",
    "format = DataFormat(image_raw_path, labels)"
   ]
  },
  {
   "cell_type": "code",
   "execution_count": 6,
   "metadata": {},
   "outputs": [
    {
     "name": "stdout",
     "output_type": "stream",
     "text": [
      "Clear /home/mcserver/Desktop/machineLearning/projects/rstf/images/collected/store successful.\n",
      "Clear /home/mcserver/Desktop/machineLearning/projects/rstf/images/collected/details successful.\n",
      "Clear /home/mcserver/Desktop/machineLearning/projects/rstf/images/collected/content successful.\n",
      "Clear /home/mcserver/Desktop/machineLearning/projects/rstf/images/collected/balance successful.\n",
      "All directories clear successful.\n"
     ]
    }
   ],
   "source": [
    "format.clear_all_labels() # Clean all collected label directories"
   ]
  },
  {
   "cell_type": "code",
   "execution_count": 11,
   "metadata": {},
   "outputs": [],
   "source": [
    "format.convert_files_jpeg() # If files are pdf"
   ]
  },
  {
   "cell_type": "code",
   "execution_count": 12,
   "metadata": {},
   "outputs": [],
   "source": [
    "format.distribute_raw_to_labels() # After converting to jpg, make copies and move them to label folders"
   ]
  },
  {
   "cell_type": "code",
   "execution_count": 13,
   "metadata": {},
   "outputs": [
    {
     "name": "stdout",
     "output_type": "stream",
     "text": [
      "All label files renamed successful.\n"
     ]
    }
   ],
   "source": [
    "format.rename_files_uuid()"
   ]
  },
  {
   "cell_type": "code",
   "execution_count": 14,
   "metadata": {},
   "outputs": [
    {
     "name": "stdout",
     "output_type": "stream",
     "text": [
      "Clear /home/mcserver/Desktop/machineLearning/projects/rstf/images/collected/raw successful.\n"
     ]
    }
   ],
   "source": [
    "format.clear_directory(\"raw\")"
   ]
  },
  {
   "cell_type": "code",
   "execution_count": 15,
   "metadata": {},
   "outputs": [
    {
     "name": "stdout",
     "output_type": "stream",
     "text": [
      "Image:/home/mcserver/Desktop/machineLearning/projects/rstf/images/collected/balance/balance_6028e636-33e1-11ee-a805-984827e0aa99.jpg -> Annotation:/home/mcserver/Desktop/machineLearning/projects/rstf/images/collected/balance/balance_6028e636-33e1-11ee-a805-984827e0aa99.xml\n",
      "ESC press\n",
      "Cancel creation.\n",
      "Image:/home/mcserver/Desktop/machineLearning/projects/rstf/images/collected/balance/balance_6028e7d0-33e1-11ee-a805-984827e0aa99.jpg -> Annotation:/home/mcserver/Desktop/machineLearning/projects/rstf/images/collected/balance/balance_6028e7d0-33e1-11ee-a805-984827e0aa99.xml\n",
      "Image:/home/mcserver/Desktop/machineLearning/projects/rstf/images/collected/content/content_6028e3ca-33e1-11ee-a805-984827e0aa99.jpg -> Annotation:/home/mcserver/Desktop/machineLearning/projects/rstf/images/collected/content/content_6028e3ca-33e1-11ee-a805-984827e0aa99.xml\n",
      "Image:/home/mcserver/Desktop/machineLearning/projects/rstf/images/collected/content/content_6028e21c-33e1-11ee-a805-984827e0aa99.jpg -> Annotation:/home/mcserver/Desktop/machineLearning/projects/rstf/images/collected/content/content_6028e21c-33e1-11ee-a805-984827e0aa99.xml\n",
      "Image:/home/mcserver/Desktop/machineLearning/projects/rstf/images/collected/details/details_6028dd62-33e1-11ee-a805-984827e0aa99.jpg -> Annotation:/home/mcserver/Desktop/machineLearning/projects/rstf/images/collected/details/details_6028dd62-33e1-11ee-a805-984827e0aa99.xml\n",
      "Image:/home/mcserver/Desktop/machineLearning/projects/rstf/images/collected/details/details_6028df74-33e1-11ee-a805-984827e0aa99.jpg -> Annotation:/home/mcserver/Desktop/machineLearning/projects/rstf/images/collected/details/details_6028df74-33e1-11ee-a805-984827e0aa99.xml\n",
      "Image:/home/mcserver/Desktop/machineLearning/projects/rstf/images/collected/store/store_6028aa22-33e1-11ee-a805-984827e0aa99.jpg -> Annotation:/home/mcserver/Desktop/machineLearning/projects/rstf/images/collected/store/store_6028aa22-33e1-11ee-a805-984827e0aa99.xml\n",
      "Cancel creation.\n",
      "Image:/home/mcserver/Desktop/machineLearning/projects/rstf/images/collected/store/store_6028d6a0-33e1-11ee-a805-984827e0aa99.jpg -> Annotation:/home/mcserver/Desktop/machineLearning/projects/rstf/images/collected/store/store_6028d6a0-33e1-11ee-a805-984827e0aa99.xml\n"
     ]
    }
   ],
   "source": [
    "# Open labelImg gui to begin labeling\n",
    "!labelImg"
   ]
  },
  {
   "cell_type": "code",
   "execution_count": 6,
   "metadata": {},
   "outputs": [],
   "source": [
    "\n",
    "# Partition into training and testing\n",
    "partition = DataPartition(TEST, TRAIN, 2)\n",
    "partition.partition_training_from(COLLECT)"
   ]
  },
  {
   "cell_type": "code",
   "execution_count": null,
   "metadata": {},
   "outputs": [],
   "source": []
  }
 ],
 "metadata": {
  "kernelspec": {
   "display_name": "tfrs",
   "language": "python",
   "name": "python3"
  },
  "language_info": {
   "codemirror_mode": {
    "name": "ipython",
    "version": 3
   },
   "file_extension": ".py",
   "mimetype": "text/x-python",
   "name": "python",
   "nbconvert_exporter": "python",
   "pygments_lexer": "ipython3",
   "version": "3.9.17"
  },
  "orig_nbformat": 4
 },
 "nbformat": 4,
 "nbformat_minor": 2
}
