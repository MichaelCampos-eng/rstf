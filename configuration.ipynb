{
 "cells": [
  {
   "attachments": {},
   "cell_type": "markdown",
   "metadata": {},
   "source": [
    "## Package/Library Installation ##"
   ]
  },
  {
   "cell_type": "code",
   "execution_count": 1,
   "metadata": {},
   "outputs": [],
   "source": [
    "# If first time, mcopy and move setup from within your tensorflow/models/research\n",
    "# cp object_detection/packages/tf2/setup.py .\n",
    "\n",
    "# Then install all packages in the setup.py file\n",
    "# python -m pip install .\n",
    "\n",
    "# Within your tensorflow/models/research/ run script to verify configuration\n",
    "# python object_detection/builders/model_builder_tf2_test.py"
   ]
  },
  {
   "cell_type": "code",
   "execution_count": 2,
   "metadata": {},
   "outputs": [],
   "source": [
    "import os\n",
    "from scripts.collection import DataFormat, DataPartition"
   ]
  },
  {
   "attachments": {},
   "cell_type": "markdown",
   "metadata": {},
   "source": [
    "## Directory Setup ##"
   ]
  },
  {
   "cell_type": "code",
   "execution_count": 3,
   "metadata": {},
   "outputs": [],
   "source": [
    "labels = ['store', 'details', 'content', 'balance']\n",
    "number_imgs = 2"
   ]
  },
  {
   "cell_type": "code",
   "execution_count": 4,
   "metadata": {},
   "outputs": [],
   "source": [
    "# Paths\n",
    "ROOT_PATH = \"/home/mcserver/Desktop/machineLearning/projects/rstf\"\n",
    "IMAGES_PATH = os.path.join(\"images\")\n",
    "ANNOTATIONS = os.path.join('annotations')\n",
    "EXPORTED_MODELS = os.path.join('exported_models')\n",
    "MODELS = os.path.join(\"models\")\n",
    "PRETRAINED_MODELS = os.path.join(\"pretrained_models\")\n",
    "TRAIN = os.path.join(IMAGES_PATH, \"train\")\n",
    "TEST = os.path.join(IMAGES_PATH, \"test\")\n",
    "COLLECT = os.path.join(IMAGES_PATH, \"collected\")\n",
    "\n",
    "# Create directories\n",
    "if not os.path.exists(IMAGES_PATH):\n",
    "    os.makedirs(IMAGES_PATH)\n",
    "    os.makedirs(COLLECT)\n",
    "    os.makedirs(TRAIN)\n",
    "    os.makedirs(TEST)\n",
    "    os.makedirs(os.path.join(COLLECT, \"raw\"))\n",
    "    for label in labels:\n",
    "        label_path = os.path.join(IMAGES_PATH, \"collected\", label)\n",
    "        if not os.path.exists(label_path):\n",
    "            os.makedirs(label_path)\n",
    "\n",
    "if not os.path.exists(ANNOTATIONS):\n",
    "    os.makedirs(ANNOTATIONS)\n",
    "\n",
    "if not os.path.exists(EXPORTED_MODELS):\n",
    "    os.makedirs(EXPORTED_MODELS)\n",
    "\n",
    "if not os.path.exists(MODELS):\n",
    "    os.makedirs(MODELS)\n",
    "\n",
    "if not os.path.exists(PRETRAINED_MODELS):\n",
    "    os.makedirs(PRETRAINED_MODELS)"
   ]
  },
  {
   "attachments": {},
   "cell_type": "markdown",
   "metadata": {},
   "source": [
    "## Data Collection ##"
   ]
  },
  {
   "cell_type": "code",
   "execution_count": 5,
   "metadata": {},
   "outputs": [],
   "source": [
    "# Format data to jpg each with unique uuid for each label\n",
    "image_raw_path = os.path.join(ROOT_PATH, COLLECT, \"raw\")\n",
    "format = DataFormat(image_raw_path, labels)"
   ]
  },
  {
   "cell_type": "code",
   "execution_count": 6,
   "metadata": {},
   "outputs": [
    {
     "name": "stdout",
     "output_type": "stream",
     "text": [
      "Clear /home/mcserver/Desktop/machineLearning/projects/rstf/images/collected/store successful.\n",
      "Clear /home/mcserver/Desktop/machineLearning/projects/rstf/images/collected/details successful.\n",
      "Clear /home/mcserver/Desktop/machineLearning/projects/rstf/images/collected/content successful.\n",
      "Clear /home/mcserver/Desktop/machineLearning/projects/rstf/images/collected/balance successful.\n",
      "All directories clear successful.\n"
     ]
    }
   ],
   "source": [
    "format.clear_all_labels() # Clean all collected label directories"
   ]
  },
  {
   "cell_type": "code",
   "execution_count": 7,
   "metadata": {},
   "outputs": [
    {
     "ename": "DirectoryError",
     "evalue": "Empty directory /home/mcserver/Desktop/machineLearning/projects/rstf/images/collected/raw! Add files to it.",
     "output_type": "error",
     "traceback": [
      "\u001b[0;31m---------------------------------------------------------------------------\u001b[0m",
      "\u001b[0;31mDirectoryError\u001b[0m                            Traceback (most recent call last)",
      "Cell \u001b[0;32mIn[7], line 1\u001b[0m\n\u001b[0;32m----> 1\u001b[0m \u001b[39mformat\u001b[39;49m\u001b[39m.\u001b[39;49mconvert_files_jpeg() \u001b[39m# If files are pdf\u001b[39;00m\n",
      "File \u001b[0;32m~/Desktop/machineLearning/projects/rstf/scripts/collection.py:82\u001b[0m, in \u001b[0;36mDataFormat.convert_files_jpeg\u001b[0;34m(self)\u001b[0m\n\u001b[1;32m     79\u001b[0m     \u001b[39mraise\u001b[39;00m DirectoryError(\u001b[39m\"\u001b[39m\u001b[39mImages raw directory \u001b[39m\u001b[39m{}\u001b[39;00m\u001b[39m does not exist!\u001b[39m\u001b[39m\"\u001b[39m\u001b[39m.\u001b[39mformat(\u001b[39mself\u001b[39m\u001b[39m.\u001b[39mimage_raw_path))\n\u001b[1;32m     81\u001b[0m \u001b[39mif\u001b[39;00m \u001b[39mlen\u001b[39m(os\u001b[39m.\u001b[39mlistdir(\u001b[39mself\u001b[39m\u001b[39m.\u001b[39mimage_raw_path)) \u001b[39m==\u001b[39m \u001b[39m0\u001b[39m:\n\u001b[0;32m---> 82\u001b[0m     \u001b[39mraise\u001b[39;00m DirectoryError(\u001b[39m\"\u001b[39m\u001b[39mEmpty directory \u001b[39m\u001b[39m{}\u001b[39;00m\u001b[39m! Add files to it.\u001b[39m\u001b[39m\"\u001b[39m\u001b[39m.\u001b[39mformat(\u001b[39mself\u001b[39m\u001b[39m.\u001b[39mimage_raw_path))\n\u001b[1;32m     84\u001b[0m \u001b[39mfor\u001b[39;00m file \u001b[39min\u001b[39;00m os\u001b[39m.\u001b[39mlistdir(\u001b[39mself\u001b[39m\u001b[39m.\u001b[39mimage_raw_path):\n\u001b[1;32m     85\u001b[0m     \u001b[39mif\u001b[39;00m \u001b[39m'\u001b[39m\u001b[39m.pdf\u001b[39m\u001b[39m'\u001b[39m \u001b[39min\u001b[39;00m file:\n",
      "\u001b[0;31mDirectoryError\u001b[0m: Empty directory /home/mcserver/Desktop/machineLearning/projects/rstf/images/collected/raw! Add files to it."
     ]
    }
   ],
   "source": [
    "format.convert_files_jpeg() # If files are pdf"
   ]
  },
  {
   "cell_type": "code",
   "execution_count": 8,
   "metadata": {},
   "outputs": [
    {
     "ename": "DirectoryError",
     "evalue": "Empty directory /home/mcserver/Desktop/machineLearning/projects/rstf/images/collected/raw! Add files to it.",
     "output_type": "error",
     "traceback": [
      "\u001b[0;31m---------------------------------------------------------------------------\u001b[0m",
      "\u001b[0;31mDirectoryError\u001b[0m                            Traceback (most recent call last)",
      "Cell \u001b[0;32mIn[8], line 1\u001b[0m\n\u001b[0;32m----> 1\u001b[0m \u001b[39mformat\u001b[39;49m\u001b[39m.\u001b[39;49mdistribute_raw_to_labels() \u001b[39m# After converting to jpg, make copies and move them to label folders\u001b[39;00m\n",
      "File \u001b[0;32m~/Desktop/machineLearning/projects/rstf/scripts/collection.py:47\u001b[0m, in \u001b[0;36mDataFormat.distribute_raw_to_labels\u001b[0;34m(self)\u001b[0m\n\u001b[1;32m     45\u001b[0m \u001b[39mdef\u001b[39;00m \u001b[39mdistribute_raw_to_labels\u001b[39m(\u001b[39mself\u001b[39m):\n\u001b[1;32m     46\u001b[0m     \u001b[39mif\u001b[39;00m \u001b[39mlen\u001b[39m(os\u001b[39m.\u001b[39mlistdir(\u001b[39mself\u001b[39m\u001b[39m.\u001b[39mimage_raw_path)) \u001b[39m==\u001b[39m \u001b[39m0\u001b[39m:\n\u001b[0;32m---> 47\u001b[0m         \u001b[39mraise\u001b[39;00m DirectoryError(\u001b[39m\"\u001b[39m\u001b[39mEmpty directory \u001b[39m\u001b[39m{}\u001b[39;00m\u001b[39m! Add files to it.\u001b[39m\u001b[39m\"\u001b[39m\u001b[39m.\u001b[39mformat(\u001b[39mself\u001b[39m\u001b[39m.\u001b[39mimage_raw_path))\n\u001b[1;32m     49\u001b[0m     \u001b[39mfor\u001b[39;00m file \u001b[39min\u001b[39;00m os\u001b[39m.\u001b[39mlistdir(\u001b[39mself\u001b[39m\u001b[39m.\u001b[39mimage_raw_path):\n\u001b[1;32m     50\u001b[0m         \u001b[39mfor\u001b[39;00m label \u001b[39min\u001b[39;00m \u001b[39mself\u001b[39m\u001b[39m.\u001b[39mlabels:\n",
      "\u001b[0;31mDirectoryError\u001b[0m: Empty directory /home/mcserver/Desktop/machineLearning/projects/rstf/images/collected/raw! Add files to it."
     ]
    }
   ],
   "source": [
    "format.distribute_raw_to_labels() # After converting to jpg, make copies and move them to label folders"
   ]
  },
  {
   "cell_type": "code",
   "execution_count": 9,
   "metadata": {},
   "outputs": [
    {
     "ename": "DirectoryError",
     "evalue": "Empty directory /home/mcserver/Desktop/machineLearning/projects/rstf/images/collected/store! Add files to it.",
     "output_type": "error",
     "traceback": [
      "\u001b[0;31m---------------------------------------------------------------------------\u001b[0m",
      "\u001b[0;31mDirectoryError\u001b[0m                            Traceback (most recent call last)",
      "Cell \u001b[0;32mIn[9], line 1\u001b[0m\n\u001b[0;32m----> 1\u001b[0m \u001b[39mformat\u001b[39;49m\u001b[39m.\u001b[39;49mrename_files_uuid()\n",
      "File \u001b[0;32m~/Desktop/machineLearning/projects/rstf/scripts/collection.py:33\u001b[0m, in \u001b[0;36mDataFormat.rename_files_uuid\u001b[0;34m(self)\u001b[0m\n\u001b[1;32m     31\u001b[0m files \u001b[39m=\u001b[39m os\u001b[39m.\u001b[39mlistdir(label_path)\n\u001b[1;32m     32\u001b[0m \u001b[39mif\u001b[39;00m \u001b[39mlen\u001b[39m(files) \u001b[39m==\u001b[39m \u001b[39m0\u001b[39m:\n\u001b[0;32m---> 33\u001b[0m     \u001b[39mraise\u001b[39;00m DirectoryError(\u001b[39m\"\u001b[39m\u001b[39mEmpty directory \u001b[39m\u001b[39m{}\u001b[39;00m\u001b[39m! Add files to it.\u001b[39m\u001b[39m\"\u001b[39m\u001b[39m.\u001b[39mformat(label_path))\n\u001b[1;32m     35\u001b[0m \u001b[39mfor\u001b[39;00m file \u001b[39min\u001b[39;00m files:\n\u001b[1;32m     36\u001b[0m     \u001b[39mif\u001b[39;00m \u001b[39mnot\u001b[39;00m (\u001b[39m\"\u001b[39m\u001b[39m.jpg\u001b[39m\u001b[39m\"\u001b[39m \u001b[39min\u001b[39;00m file):\n",
      "\u001b[0;31mDirectoryError\u001b[0m: Empty directory /home/mcserver/Desktop/machineLearning/projects/rstf/images/collected/store! Add files to it."
     ]
    }
   ],
   "source": [
    "format.rename_files_uuid()"
   ]
  },
  {
   "cell_type": "code",
   "execution_count": 10,
   "metadata": {},
   "outputs": [
    {
     "name": "stdout",
     "output_type": "stream",
     "text": [
      "Clear /home/mcserver/Desktop/machineLearning/projects/rstf/images/collected/raw successful.\n"
     ]
    }
   ],
   "source": [
    "format.clear_directory(\"raw\")"
   ]
  },
  {
   "cell_type": "code",
   "execution_count": null,
   "metadata": {},
   "outputs": [],
   "source": [
    "# Open labelImg gui to begin labeling\n",
    "!labelImg"
   ]
  },
  {
   "cell_type": "code",
   "execution_count": null,
   "metadata": {},
   "outputs": [],
   "source": [
    "\n",
    "# Partition into training and testing\n",
    "partition = DataPartition(TEST, TRAIN, 1)\n",
    "partition.partition_training_from(COLLECT)"
   ]
  }
 ],
 "metadata": {
  "kernelspec": {
   "display_name": "tfrs",
   "language": "python",
   "name": "python3"
  },
  "language_info": {
   "codemirror_mode": {
    "name": "ipython",
    "version": 3
   },
   "file_extension": ".py",
   "mimetype": "text/x-python",
   "name": "python",
   "nbconvert_exporter": "python",
   "pygments_lexer": "ipython3",
   "version": "3.9.17"
  },
  "orig_nbformat": 4
 },
 "nbformat": 4,
 "nbformat_minor": 2
}
