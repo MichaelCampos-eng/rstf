{
 "cells": [
  {
   "attachments": {},
   "cell_type": "markdown",
   "metadata": {},
   "source": [
    "## Package/Library Installation ##"
   ]
  },
  {
   "cell_type": "code",
   "execution_count": null,
   "metadata": {},
   "outputs": [],
   "source": [
    "!pip install tensorflow==2.13.0"
   ]
  },
  {
   "cell_type": "code",
   "execution_count": null,
   "metadata": {},
   "outputs": [],
   "source": [
    "!pip install protobuf==3.20.3"
   ]
  },
  {
   "cell_type": "code",
   "execution_count": 3,
   "metadata": {},
   "outputs": [
    {
     "ename": "ModuleNotFoundError",
     "evalue": "No module named 'pdf2image'",
     "output_type": "error",
     "traceback": [
      "\u001b[0;31m---------------------------------------------------------------------------\u001b[0m",
      "\u001b[0;31mModuleNotFoundError\u001b[0m                       Traceback (most recent call last)",
      "Cell \u001b[0;32mIn[3], line 2\u001b[0m\n\u001b[1;32m      1\u001b[0m \u001b[39mimport\u001b[39;00m \u001b[39mos\u001b[39;00m\n\u001b[0;32m----> 2\u001b[0m \u001b[39mfrom\u001b[39;00m \u001b[39mscripts\u001b[39;00m\u001b[39m.\u001b[39;00m\u001b[39mcollection\u001b[39;00m \u001b[39mimport\u001b[39;00m DataFormat, DataPartition\n",
      "File \u001b[0;32m~/Desktop/machineLearning/projects/rstf/scripts/collection.py:1\u001b[0m\n\u001b[0;32m----> 1\u001b[0m \u001b[39mfrom\u001b[39;00m \u001b[39mpdf2image\u001b[39;00m \u001b[39mimport\u001b[39;00m convert_from_path\n\u001b[1;32m      2\u001b[0m \u001b[39mimport\u001b[39;00m \u001b[39mos\u001b[39;00m\n\u001b[1;32m      3\u001b[0m \u001b[39mimport\u001b[39;00m \u001b[39muuid\u001b[39;00m\n",
      "\u001b[0;31mModuleNotFoundError\u001b[0m: No module named 'pdf2image'"
     ]
    }
   ],
   "source": [
    "import os\n",
    "from scripts.collection import DataFormat, DataPartition"
   ]
  },
  {
   "attachments": {},
   "cell_type": "markdown",
   "metadata": {},
   "source": [
    "## Directory Setup ##"
   ]
  },
  {
   "cell_type": "code",
   "execution_count": 1,
   "metadata": {},
   "outputs": [],
   "source": [
    "labels = ['store', 'details', 'content', 'balance']\n",
    "number_imgs = 3"
   ]
  },
  {
   "cell_type": "code",
   "execution_count": 2,
   "metadata": {},
   "outputs": [
    {
     "ename": "NameError",
     "evalue": "name 'os' is not defined",
     "output_type": "error",
     "traceback": [
      "\u001b[0;31m---------------------------------------------------------------------------\u001b[0m",
      "\u001b[0;31mNameError\u001b[0m                                 Traceback (most recent call last)",
      "Cell \u001b[0;32mIn[2], line 2\u001b[0m\n\u001b[1;32m      1\u001b[0m \u001b[39m# Paths\u001b[39;00m\n\u001b[0;32m----> 2\u001b[0m IMAGES_PATH \u001b[39m=\u001b[39m os\u001b[39m.\u001b[39mpath\u001b[39m.\u001b[39mjoin(\u001b[39m\"\u001b[39m\u001b[39mimages\u001b[39m\u001b[39m\"\u001b[39m)\n\u001b[1;32m      3\u001b[0m ANNOTATIONS \u001b[39m=\u001b[39m os\u001b[39m.\u001b[39mpath\u001b[39m.\u001b[39mjoin(\u001b[39m'\u001b[39m\u001b[39mannotations\u001b[39m\u001b[39m'\u001b[39m)\n\u001b[1;32m      4\u001b[0m EXPORTED_MODELS \u001b[39m=\u001b[39m os\u001b[39m.\u001b[39mpath\u001b[39m.\u001b[39mjoin(\u001b[39m'\u001b[39m\u001b[39mexported_models\u001b[39m\u001b[39m'\u001b[39m)\n",
      "\u001b[0;31mNameError\u001b[0m: name 'os' is not defined"
     ]
    }
   ],
   "source": [
    "# Paths\n",
    "IMAGES_PATH = os.path.join(\"images\")\n",
    "ANNOTATIONS = os.path.join('annotations')\n",
    "EXPORTED_MODELS = os.path.join('exported_models')\n",
    "MODELS = os.path.join(\"models\")\n",
    "PRETRAINED_MODELS = os.path.join(\"pretrained_models\")\n",
    "TRAIN = os.path.join(IMAGES_PATH, \"train\")\n",
    "TEST = os.path.join(IMAGES_PATH, \"test\")\n",
    "COLLECT = os.path.join(IMAGES_PATH, \"collected\")\n",
    "\n",
    "# Create directories\n",
    "if not os.path.exists(IMAGES_PATH):\n",
    "    os.makedirs(IMAGES_PATH)\n",
    "    os.makedirs(COLLECT)\n",
    "    os.makedirs(TRAIN)\n",
    "    os.makedirs(TEST)\n",
    "\n",
    "if not os.path.exists(ANNOTATIONS):\n",
    "    os.makedirs(ANNOTATIONS)\n",
    "\n",
    "if not os.path.exists(EXPORTED_MODELS):\n",
    "    os.makedirs(EXPORTED_MODELS)\n",
    "\n",
    "if not os.path.exists(MODELS):\n",
    "    os.makedirs(MODELS)\n",
    "\n",
    "if not os.path.exists(PRETRAINED_MODELS):\n",
    "    os.makedirs(PRETRAINED_MODELS)\n",
    "\n",
    "for label in labels:\n",
    "    label_path = os.path.join(IMAGES_PATH, \"collected\", label)\n",
    "    if not os.path.exists(label_path):\n",
    "        os.makedirs(label_path)\n"
   ]
  },
  {
   "attachments": {},
   "cell_type": "markdown",
   "metadata": {},
   "source": [
    "## Data Collection ##"
   ]
  },
  {
   "cell_type": "code",
   "execution_count": null,
   "metadata": {},
   "outputs": [],
   "source": [
    "# Format data to jpg each with unique uuid\n",
    "format = DataFormat(COLLECT, labels)\n",
    "format.convert_files_jpeg() # If files are pdf\n",
    "format.rename_files_uuid()"
   ]
  },
  {
   "cell_type": "code",
   "execution_count": 10,
   "metadata": {},
   "outputs": [],
   "source": [
    "# Open labelImg gui to begin labeling\n",
    "!labelImg"
   ]
  },
  {
   "cell_type": "code",
   "execution_count": null,
   "metadata": {},
   "outputs": [],
   "source": [
    "\n",
    "# Partition into training and testing\n",
    "partition = DataPartition(TEST, TRAIN, 1)\n",
    "partition.partition_training_from(COLLECT)"
   ]
  }
 ],
 "metadata": {
  "kernelspec": {
   "display_name": "tfrs",
   "language": "python",
   "name": "python3"
  },
  "language_info": {
   "codemirror_mode": {
    "name": "ipython",
    "version": 3
   },
   "file_extension": ".py",
   "mimetype": "text/x-python",
   "name": "python",
   "nbconvert_exporter": "python",
   "pygments_lexer": "ipython3",
   "version": "3.10.10"
  },
  "orig_nbformat": 4
 },
 "nbformat": 4,
 "nbformat_minor": 2
}
